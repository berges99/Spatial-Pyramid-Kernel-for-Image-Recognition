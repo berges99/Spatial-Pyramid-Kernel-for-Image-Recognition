{
 "cells": [
  {
   "cell_type": "markdown",
   "metadata": {},
   "source": [
    "# Image loading and resizing"
   ]
  },
  {
   "cell_type": "markdown",
   "metadata": {},
   "source": [
    "**Importing Libraries**"
   ]
  },
  {
   "cell_type": "code",
   "execution_count": 53,
   "metadata": {},
   "outputs": [],
   "source": [
    "import os\n",
    "import numpy as np\n",
    "import pandas as pd\n",
    "import matplotlib.pyplot as plt\n",
    "\n",
    "from PIL import Image\n",
    "from tqdm.notebook import tqdm\n",
    "from IPython.display import display, HTML"
   ]
  },
  {
   "cell_type": "markdown",
   "metadata": {},
   "source": [
    "### Lego dataset"
   ]
  },
  {
   "cell_type": "code",
   "execution_count": 67,
   "metadata": {},
   "outputs": [],
   "source": [
    "# Define the path to the lego dataset DATA directory\n",
    "data_path = os.getcwd() + '/DATA/'"
   ]
  },
  {
   "cell_type": "markdown",
   "metadata": {},
   "source": [
    "Some things to notice about the dataset:\n",
    "- It is formed by 200x200 pixel images.\n",
    "- They are in .PNG format: supports 32-bit RGBA colors and has the ability to use transparency and or opacity, as opposed to JPG where by default it will retain a white/blank background.\n",
    "- We have 6379 different images in the dataset: 15 classes with 400 images and one with 379."
   ]
  },
  {
   "cell_type": "markdown",
   "metadata": {},
   "source": [
    "Here is an example:"
   ]
  },
  {
   "cell_type": "code",
   "execution_count": 57,
   "metadata": {},
   "outputs": [
    {
     "data": {
      "text/plain": [
       "(-0.5, 199.5, 199.5, -0.5)"
      ]
     },
     "execution_count": 57,
     "metadata": {},
     "output_type": "execute_result"
    },
    {
     "data": {
      "image/png": "[encoded data removed]",
      "text/plain": [
       "<Figure size 432x432 with 1 Axes>"
      ]
     },
     "metadata": {
      "needs_background": "light"
     },
     "output_type": "display_data"
    }
   ],
   "source": [
    "# Take one image at random\n",
    "im = data_path + '2357 Brick corner 1x2x2/201706171206-0048.png'\n",
    "\n",
    "image = Image.open(im).convert('L')\n",
    "image = np.asarray(image).astype('uint8')\n",
    "\n",
    "fig, ax = plt.subplots(figsize = (6, 6))\n",
    "ax.imshow(image, cmap = 'gray', vmin = 0, vmax = 255)\n",
    "ax.axis('off')"
   ]
  },
  {
   "cell_type": "markdown",
   "metadata": {},
   "source": [
    "Now we will read the whole dataset and store it in a simple DataFrame:"
   ]
  },
  {
   "cell_type": "code",
   "execution_count": 66,
   "metadata": {},
   "outputs": [],
   "source": [
    "def read_all_data(path):\n",
    "    ''' Function that takes a path to a directory and reads all the images and stores them as a \n",
    "        pandas dataframe.\n",
    "    ----------\n",
    "    PARAMETERS\n",
    "    - path: string indicating the full path of the parent directory\n",
    "    ----------\n",
    "    RETURNS\n",
    "    - df200, df128, df64: pd.DataFrame with all the flattened grayscale images read\n",
    "    \n",
    "    '''\n",
    "    # Loop through all the class labels\n",
    "    for it, label in enumerate(os.listdir(data_path)):\n",
    "        # Beware of hidden files in the directory\n",
    "        if label[0] != '.':\n",
    "            # Full path to the different sub-directories\n",
    "            label_dir = data_path + label + '/'\n",
    "            \n",
    "            for i, im in enumerate(os.listdir(label_dir)):\n",
    "                \n",
    "                try:\n",
    "                    # Open the image and convert the PNG to grayscale\n",
    "                    image = Image.open(label_dir + im).convert('L')\n",
    "                    \n",
    "                    # Normal 200x200 resolution (no scaling)\n",
    "                    im200 = list(np.asarray(image).flatten().astype('uint8'))\n",
    "                    im200.append(label)\n",
    "                    \n",
    "                    # Downsized 128x128 resolution\n",
    "                    im128 = image.resize((128, 128), Image.ANTIALIAS)\n",
    "                    im128 = list(np.asarray(im128).flatten().astype('uint8'))\n",
    "                    im128.append(label)\n",
    "                    \n",
    "                    # Downsized 64x64 resolution\n",
    "                    im64 = image.resize((64, 64), Image.ANTIALIAS)\n",
    "                    im64 = list(np.asarray(im64).flatten().astype('uint8'))\n",
    "                    im64.append(label)\n",
    "                    \n",
    "                    # Create variables if first iteration\n",
    "                    if i == 0:\n",
    "                        m200 = im200\n",
    "                        m128 = im128\n",
    "                        m64 = im64\n",
    "                    # Else append it to the matrix\n",
    "                    else:\n",
    "                        m200 = np.vstack((m200, im200))\n",
    "                        m128 = np.vstack((m128, im128))\n",
    "                        m64 = np.vstack((m64, im64))\n",
    "                \n",
    "                except:\n",
    "                    print(f'Failed reading image: {im}')\n",
    "            \n",
    "            # Create pd.DataFrame variable if first iteration\n",
    "            if it == 0: \n",
    "                df200 = pd.DataFrame(m200)\n",
    "                df128 = pd.DataFrame(m128)\n",
    "                df64 = pd.DataFrame(m64)\n",
    "            # Else append it to the existing dataframe\n",
    "            else: \n",
    "                df200 = df200.append(pd.DataFrame(m200))\n",
    "                df128 = df128.append(pd.DataFrame(m128))\n",
    "                df64 = df64.append(pd.DataFrame(m64))\n",
    "                \n",
    "    return (df200, df128, df64)      "
   ]
  },
  {
   "cell_type": "code",
   "execution_count": 68,
   "metadata": {},
   "outputs": [
    {
     "name": "stdout",
     "output_type": "stream",
     "text": [
      "CPU times: user 1h 23min 40s, sys: 42min 20s, total: 2h 6min 1s\n",
      "Wall time: 32min 53s\n"
     ]
    }
   ],
   "source": [
    "%%time\n",
    "\n",
    "df200, df128, df64 = read_all_data(data_path)"
   ]
  },
  {
   "cell_type": "markdown",
   "metadata": {},
   "source": [
    "Take a look at the dataset (the 64x64 one for example):"
   ]
  },
  {
   "cell_type": "code",
   "execution_count": 69,
   "metadata": {},
   "outputs": [
    {
     "data": {
      "text/html": [
       "<div>\n",
       "<style scoped>\n",
       "    .dataframe tbody tr th:only-of-type {\n",
       "        vertical-align: middle;\n",
       "    }\n",
       "\n",
       "    .dataframe tbody tr th {\n",
       "        vertical-align: top;\n",
       "    }\n",
       "\n",
       "    .dataframe thead th {\n",
       "        text-align: right;\n",
       "    }\n",
       "</style>\n",
       "<table border=\"1\" class=\"dataframe\">\n",
       "  <thead>\n",
       "    <tr style=\"text-align: right;\">\n",
       "      <th></th>\n",
       "      <th>0</th>\n",
       "      <th>1</th>\n",
       "      <th>2</th>\n",
       "      <th>3</th>\n",
       "      <th>4</th>\n",
       "      <th>5</th>\n",
       "      <th>6</th>\n",
       "      <th>7</th>\n",
       "      <th>8</th>\n",
       "      <th>9</th>\n",
       "      <th>...</th>\n",
       "      <th>4087</th>\n",
       "      <th>4088</th>\n",
       "      <th>4089</th>\n",
       "      <th>4090</th>\n",
       "      <th>4091</th>\n",
       "      <th>4092</th>\n",
       "      <th>4093</th>\n",
       "      <th>4094</th>\n",
       "      <th>4095</th>\n",
       "      <th>4096</th>\n",
       "    </tr>\n",
       "  </thead>\n",
       "  <tbody>\n",
       "    <tr>\n",
       "      <th>0</th>\n",
       "      <td>0</td>\n",
       "      <td>0</td>\n",
       "      <td>0</td>\n",
       "      <td>0</td>\n",
       "      <td>0</td>\n",
       "      <td>0</td>\n",
       "      <td>0</td>\n",
       "      <td>0</td>\n",
       "      <td>0</td>\n",
       "      <td>0</td>\n",
       "      <td>...</td>\n",
       "      <td>0</td>\n",
       "      <td>0</td>\n",
       "      <td>0</td>\n",
       "      <td>0</td>\n",
       "      <td>0</td>\n",
       "      <td>0</td>\n",
       "      <td>0</td>\n",
       "      <td>0</td>\n",
       "      <td>0</td>\n",
       "      <td>3005 Brick 1x1</td>\n",
       "    </tr>\n",
       "    <tr>\n",
       "      <th>1</th>\n",
       "      <td>0</td>\n",
       "      <td>0</td>\n",
       "      <td>0</td>\n",
       "      <td>0</td>\n",
       "      <td>0</td>\n",
       "      <td>0</td>\n",
       "      <td>0</td>\n",
       "      <td>0</td>\n",
       "      <td>0</td>\n",
       "      <td>0</td>\n",
       "      <td>...</td>\n",
       "      <td>0</td>\n",
       "      <td>0</td>\n",
       "      <td>0</td>\n",
       "      <td>0</td>\n",
       "      <td>0</td>\n",
       "      <td>0</td>\n",
       "      <td>0</td>\n",
       "      <td>0</td>\n",
       "      <td>0</td>\n",
       "      <td>3005 Brick 1x1</td>\n",
       "    </tr>\n",
       "    <tr>\n",
       "      <th>2</th>\n",
       "      <td>0</td>\n",
       "      <td>0</td>\n",
       "      <td>0</td>\n",
       "      <td>0</td>\n",
       "      <td>0</td>\n",
       "      <td>0</td>\n",
       "      <td>0</td>\n",
       "      <td>0</td>\n",
       "      <td>0</td>\n",
       "      <td>0</td>\n",
       "      <td>...</td>\n",
       "      <td>0</td>\n",
       "      <td>0</td>\n",
       "      <td>0</td>\n",
       "      <td>0</td>\n",
       "      <td>0</td>\n",
       "      <td>0</td>\n",
       "      <td>0</td>\n",
       "      <td>0</td>\n",
       "      <td>0</td>\n",
       "      <td>3005 Brick 1x1</td>\n",
       "    </tr>\n",
       "    <tr>\n",
       "      <th>3</th>\n",
       "      <td>0</td>\n",
       "      <td>0</td>\n",
       "      <td>0</td>\n",
       "      <td>0</td>\n",
       "      <td>0</td>\n",
       "      <td>0</td>\n",
       "      <td>0</td>\n",
       "      <td>0</td>\n",
       "      <td>0</td>\n",
       "      <td>0</td>\n",
       "      <td>...</td>\n",
       "      <td>0</td>\n",
       "      <td>0</td>\n",
       "      <td>0</td>\n",
       "      <td>0</td>\n",
       "      <td>0</td>\n",
       "      <td>0</td>\n",
       "      <td>0</td>\n",
       "      <td>0</td>\n",
       "      <td>0</td>\n",
       "      <td>3005 Brick 1x1</td>\n",
       "    </tr>\n",
       "    <tr>\n",
       "      <th>4</th>\n",
       "      <td>0</td>\n",
       "      <td>0</td>\n",
       "      <td>0</td>\n",
       "      <td>0</td>\n",
       "      <td>0</td>\n",
       "      <td>0</td>\n",
       "      <td>0</td>\n",
       "      <td>0</td>\n",
       "      <td>0</td>\n",
       "      <td>0</td>\n",
       "      <td>...</td>\n",
       "      <td>0</td>\n",
       "      <td>0</td>\n",
       "      <td>0</td>\n",
       "      <td>0</td>\n",
       "      <td>0</td>\n",
       "      <td>0</td>\n",
       "      <td>0</td>\n",
       "      <td>0</td>\n",
       "      <td>0</td>\n",
       "      <td>3005 Brick 1x1</td>\n",
       "    </tr>\n",
       "  </tbody>\n",
       "</table>\n",
       "<p>5 rows × 4097 columns</p>\n",
       "</div>"
      ],
      "text/plain": [
       "  0    1    2    3    4    5    6    7    8    9     ... 4087 4088 4089 4090  \\\n",
       "0    0    0    0    0    0    0    0    0    0    0  ...    0    0    0    0   \n",
       "1    0    0    0    0    0    0    0    0    0    0  ...    0    0    0    0   \n",
       "2    0    0    0    0    0    0    0    0    0    0  ...    0    0    0    0   \n",
       "3    0    0    0    0    0    0    0    0    0    0  ...    0    0    0    0   \n",
       "4    0    0    0    0    0    0    0    0    0    0  ...    0    0    0    0   \n",
       "\n",
       "  4091 4092 4093 4094 4095            4096  \n",
       "0    0    0    0    0    0  3005 Brick 1x1  \n",
       "1    0    0    0    0    0  3005 Brick 1x1  \n",
       "2    0    0    0    0    0  3005 Brick 1x1  \n",
       "3    0    0    0    0    0  3005 Brick 1x1  \n",
       "4    0    0    0    0    0  3005 Brick 1x1  \n",
       "\n",
       "[5 rows x 4097 columns]"
      ]
     },
     "execution_count": 69,
     "metadata": {},
     "output_type": "execute_result"
    }
   ],
   "source": [
    "df64.head()"
   ]
  },
  {
   "cell_type": "markdown",
   "metadata": {},
   "source": [
    "Hence we have 4096 columns representing the 64x64 flattened pixels of every image, and the last column representing the label of the image."
   ]
  },
  {
   "cell_type": "markdown",
   "metadata": {},
   "source": [
    "Finally, store the dataframes into csv files in your working directory:"
   ]
  },
  {
   "cell_type": "code",
   "execution_count": 32,
   "metadata": {},
   "outputs": [],
   "source": [
    "export200 = df200.to_csv(r'df200.csv', index = False, header = False)\n",
    "export128 = df128.to_csv(r'df128.csv', index = False, header = False)\n",
    "export64 = df64.to_csv(r'df64.csv', index = False, header = False)"
   ]
  }
 ],
 "metadata": {
  "kernelspec": {
   "display_name": "Python 3",
   "language": "python",
   "name": "python3"
  },
  "language_info": {
   "codemirror_mode": {
    "name": "ipython",
    "version": 3
   },
   "file_extension": ".py",
   "mimetype": "text/x-python",
   "name": "python",
   "nbconvert_exporter": "python",
   "pygments_lexer": "ipython3",
   "version": "3.6.8"
  }
 },
 "nbformat": 4,
 "nbformat_minor": 2
}
